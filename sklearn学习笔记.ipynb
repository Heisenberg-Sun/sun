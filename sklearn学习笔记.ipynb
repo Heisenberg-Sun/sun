{
 "cells": [
  {
   "cell_type": "markdown",
   "metadata": {},
   "source": [
    "# <font color=red>preprocessing</font>"
   ]
  },
  {
   "cell_type": "code",
   "execution_count": null,
   "metadata": {},
   "outputs": [],
   "source": [
    "#标准化\n",
    "import sklearn.preprocessing import preprocessing\n",
    "scaler=preprocessing.StandardScaler()\n",
    "scale_param=scaler.fit(x_train)\n",
    "#将x的标准化之后的各个参数，如平均值，方差等保存下来。等下用于测试集\n",
    "scale_x_train=scaler.fit_transform(x_train,scale_param)\n",
    "scale_x_test=scaler.fit_transform(x_test,scale_param)\n"
   ]
  },
  {
   "cell_type": "markdown",
   "metadata": {},
   "source": [
    "# <font color=red>learning_curve</font>"
   ]
  },
  {
   "cell_type": "code",
   "execution_count": null,
   "metadata": {},
   "outputs": [],
   "source": [
    "from sklearn.learning_curve import learning_curve\n",
    "train_size,train_score,test_score=learning_curve(\n",
    "                        estimator,x,y,cv=,train_sizes=\n",
    "#返回选择每一个train_sizes的训练集得分和测试集得分（列数为cv的大小），可以根据次构建学习曲线\n",
    "#以下为构建学习曲线的函数\n",
    "def plot_learning_curve(estimator,title,x,y,ylim=None,cv=None,n_jobs=1,\n",
    "                        train_size=np.linspace(0.05,1.,20),verbose=0,plot=True):\n",
    "    train_size,train_score,test_score=learning_curve(\n",
    "                        estimator,x,y,cv=cv,n_jobs=n_jobs,train_sizes=train_size,verbose=verbose)\n",
    "    train_score_mean=np.mean(train_score,axis=1)\n",
    "    test_score_mean=np.mean(test_score,axis=1)\n",
    "    train_score_std=np.std(train_score,axis=1)\n",
    "    test_score_std=np.std(test_score,axis=1)\n",
    "    \n",
    "    plt.figure()\n",
    "    plt.title(title)\n",
    "    if ylim is not None:\n",
    "        plt.ylim(*ylim)\n",
    "    plt.xlabel('num of train sample')\n",
    "    plt.ylabel('score')\n",
    "    plt.grid()\n",
    "    \n",
    "    plt.fill_between(train_size,train_score_mean-train_score_std,train_score_mean+\n",
    "                    train_score_std,alpha=0.1,color='b')\n",
    "    plt.fill_between(train_size,test_score_mean-test_score_std,test_score_mean+\n",
    "                    test_score_std,alpha=0.1,color='r')\n",
    "    plt.plot(train_size,train_score_mean,'o-',color='b',label='score on trainset')\n",
    "    plt.plot(train_size,test_score_mean,'o-',color='r',label='score on testset')\n",
    "    plt.legend(loc='best')\n",
    "    plt.draw()\n",
    "    \n",
    "    plt.show()\n",
    "    \n",
    "    return train_score_mean[-1]\n"
   ]
  },
  {
   "cell_type": "markdown",
   "metadata": {},
   "source": [
    "# <font color=red>cross_validation</font>"
   ]
  },
  {
   "cell_type": "code",
   "execution_count": null,
   "metadata": {},
   "outputs": [],
   "source": [
    "from sklearn import cross_validation\n",
    "#返回对数据，(x,y)，cv=5的交叉验证的score\n",
    "cross_validation.cross_val_score(estimator,x,y,cv=5)\n",
    "#对数据划分验证集和测试集,随机种子相同会得到一样的验证集\n",
    "split_train,split_cv=cross_validation.train_test_split(train_set,test_size=0.3,random_state=0)"
   ]
  }
 ],
 "metadata": {
  "kernelspec": {
   "display_name": "Python 3",
   "language": "python",
   "name": "python3"
  },
  "language_info": {
   "codemirror_mode": {
    "name": "ipython",
    "version": 2
   },
   "file_extension": ".py",
   "mimetype": "text/x-python",
   "name": "python",
   "nbconvert_exporter": "python",
   "pygments_lexer": "ipython2",
   "version": "2.7.12"
  }
 },
 "nbformat": 4,
 "nbformat_minor": 2
}
